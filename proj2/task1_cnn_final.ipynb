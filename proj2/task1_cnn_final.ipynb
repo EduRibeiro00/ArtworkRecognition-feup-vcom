{
 "metadata": {
  "language_info": {
   "codemirror_mode": {
    "name": "ipython",
    "version": 3
   },
   "file_extension": ".py",
   "mimetype": "text/x-python",
   "name": "python",
   "nbconvert_exporter": "python",
   "pygments_lexer": "ipython3",
   "version": "3.9.1"
  },
  "orig_nbformat": 4,
  "kernelspec": {
   "name": "python3",
   "display_name": "Python 3.9.1 64-bit"
  },
  "interpreter": {
   "hash": "c20a6cc10b181467a9eba79145e80b289cbf6403380349d96b661c6de1c0092c"
  }
 },
 "nbformat": 4,
 "nbformat_minor": 2,
 "cells": [
  {
   "cell_type": "code",
   "execution_count": 1,
   "metadata": {},
   "outputs": [],
   "source": [
    "import common\n",
    "from keras import models\n",
    "from keras import metrics\n",
    "import functools\n",
    "import numpy as np\n",
    "from keras.preprocessing.image import ImageDataGenerator\n",
    "from sklearn.metrics import confusion_matrix, classification_report"
   ]
  },
  {
   "cell_type": "code",
   "execution_count": 2,
   "metadata": {},
   "outputs": [
    {
     "output_type": "stream",
     "name": "stdout",
     "text": [
      "Number of train samples:  19999\n"
     ]
    },
    {
     "output_type": "display_data",
     "data": {
      "text/plain": "                         id attribute_ids\n10708  8475e5a61489cea1.png            13\n7775   6565ccb846235e4c.png            -1\n5074   47331714e1338d0f.png            51\n378    13c03d4c9e5bb97f.png            -1\n18114  d601b1072f1e23fc.png            13",
      "text/html": "<div>\n<style scoped>\n    .dataframe tbody tr th:only-of-type {\n        vertical-align: middle;\n    }\n\n    .dataframe tbody tr th {\n        vertical-align: top;\n    }\n\n    .dataframe thead th {\n        text-align: right;\n    }\n</style>\n<table border=\"1\" class=\"dataframe\">\n  <thead>\n    <tr style=\"text-align: right;\">\n      <th></th>\n      <th>id</th>\n      <th>attribute_ids</th>\n    </tr>\n  </thead>\n  <tbody>\n    <tr>\n      <th>10708</th>\n      <td>8475e5a61489cea1.png</td>\n      <td>13</td>\n    </tr>\n    <tr>\n      <th>7775</th>\n      <td>6565ccb846235e4c.png</td>\n      <td>-1</td>\n    </tr>\n    <tr>\n      <th>5074</th>\n      <td>47331714e1338d0f.png</td>\n      <td>51</td>\n    </tr>\n    <tr>\n      <th>378</th>\n      <td>13c03d4c9e5bb97f.png</td>\n      <td>-1</td>\n    </tr>\n    <tr>\n      <th>18114</th>\n      <td>d601b1072f1e23fc.png</td>\n      <td>13</td>\n    </tr>\n  </tbody>\n</table>\n</div>"
     },
     "metadata": {}
    },
    {
     "output_type": "stream",
     "name": "stdout",
     "text": [
      "Number of train samples:  4991\n"
     ]
    },
    {
     "output_type": "display_data",
     "data": {
      "text/plain": "                         id attribute_ids\n16988  c92f0591a22ebc6e.png            70\n7685   64792be688f3b29c.png            22\n7193   5f28a836bda961d1.png            45\n8241   6a149822754ea08b.png            25\n9798   7ab7d5ebc3a5644b.png            70",
      "text/html": "<div>\n<style scoped>\n    .dataframe tbody tr th:only-of-type {\n        vertical-align: middle;\n    }\n\n    .dataframe tbody tr th {\n        vertical-align: top;\n    }\n\n    .dataframe thead th {\n        text-align: right;\n    }\n</style>\n<table border=\"1\" class=\"dataframe\">\n  <thead>\n    <tr style=\"text-align: right;\">\n      <th></th>\n      <th>id</th>\n      <th>attribute_ids</th>\n    </tr>\n  </thead>\n  <tbody>\n    <tr>\n      <th>16988</th>\n      <td>c92f0591a22ebc6e.png</td>\n      <td>70</td>\n    </tr>\n    <tr>\n      <th>7685</th>\n      <td>64792be688f3b29c.png</td>\n      <td>22</td>\n    </tr>\n    <tr>\n      <th>7193</th>\n      <td>5f28a836bda961d1.png</td>\n      <td>45</td>\n    </tr>\n    <tr>\n      <th>8241</th>\n      <td>6a149822754ea08b.png</td>\n      <td>25</td>\n    </tr>\n    <tr>\n      <th>9798</th>\n      <td>7ab7d5ebc3a5644b.png</td>\n      <td>70</td>\n    </tr>\n  </tbody>\n</table>\n</div>"
     },
     "metadata": {}
    },
    {
     "output_type": "stream",
     "name": "stdout",
     "text": [
      "Number of test samples:  2097\n"
     ]
    },
    {
     "output_type": "display_data",
     "data": {
      "text/plain": "                        id attribute_ids\n1565  fa70dcd047462197.png            45\n1158  f6539f1f401926da.png            13\n258   ecf6c6a9a1261c73.png            51\n788   f2687dd500b13443.png            14\n1128  f60639307774a54b.png            51",
      "text/html": "<div>\n<style scoped>\n    .dataframe tbody tr th:only-of-type {\n        vertical-align: middle;\n    }\n\n    .dataframe tbody tr th {\n        vertical-align: top;\n    }\n\n    .dataframe thead th {\n        text-align: right;\n    }\n</style>\n<table border=\"1\" class=\"dataframe\">\n  <thead>\n    <tr style=\"text-align: right;\">\n      <th></th>\n      <th>id</th>\n      <th>attribute_ids</th>\n    </tr>\n  </thead>\n  <tbody>\n    <tr>\n      <th>1565</th>\n      <td>fa70dcd047462197.png</td>\n      <td>45</td>\n    </tr>\n    <tr>\n      <th>1158</th>\n      <td>f6539f1f401926da.png</td>\n      <td>13</td>\n    </tr>\n    <tr>\n      <th>258</th>\n      <td>ecf6c6a9a1261c73.png</td>\n      <td>51</td>\n    </tr>\n    <tr>\n      <th>788</th>\n      <td>f2687dd500b13443.png</td>\n      <td>14</td>\n    </tr>\n    <tr>\n      <th>1128</th>\n      <td>f60639307774a54b.png</td>\n      <td>51</td>\n    </tr>\n  </tbody>\n</table>\n</div>"
     },
     "metadata": {}
    }
   ],
   "source": [
    "train_3 = common.load_train_dataset('dataset_mini/train.csv')\n",
    "\n",
    "train_3.loc[~train_3[\"attribute_ids\"].isin([\"51\", \"13\"]), \"attribute_ids\"] = \"-1\"\n",
    "\n",
    "print('Number of train samples: ', train_3.shape[0])\n",
    "display(train_3.head())\n",
    "\n",
    "train_48 = common.load_train_dataset('dataset_mini/train.csv')\n",
    "\n",
    "train_48 = train_48[~train_48[\"attribute_ids\"].isin([\"51\", \"13\"])]\n",
    "\n",
    "print('Number of train samples: ', train_48.shape[0])\n",
    "display(train_48.head())\n",
    "\n",
    "test = common.load_train_dataset('dataset_mini/test.csv')\n",
    "\n",
    "print('Number of test samples: ', test.shape[0])\n",
    "display(test.head())"
   ]
  },
  {
   "cell_type": "code",
   "execution_count": 3,
   "metadata": {},
   "outputs": [
    {
     "output_type": "stream",
     "name": "stderr",
     "text": [
      "C:\\Users\\henri\\AppData\\Local\\Programs\\Python\\Python39\\lib\\site-packages\\keras_preprocessing\\image\\dataframe_iterator.py:279: UserWarning: Found 20 invalid image filename(s) in x_col=\"id\". These filename(s) will be ignored.\n",
      "  warnings.warn(\n",
      "Found 15984 validated image filenames belonging to 3 classes.\n",
      "C:\\Users\\henri\\AppData\\Local\\Programs\\Python\\Python39\\lib\\site-packages\\keras_preprocessing\\image\\dataframe_iterator.py:279: UserWarning: Found 20 invalid image filename(s) in x_col=\"id\". These filename(s) will be ignored.\n",
      "  warnings.warn(\n",
      "Found 3995 validated image filenames belonging to 3 classes.\n",
      "Found 2097 validated image filenames belonging to 50 classes.\n",
      "C:\\Users\\henri\\AppData\\Local\\Programs\\Python\\Python39\\lib\\site-packages\\keras_preprocessing\\image\\dataframe_iterator.py:279: UserWarning: Found 7 invalid image filename(s) in x_col=\"id\". These filename(s) will be ignored.\n",
      "  warnings.warn(\n",
      "C:\\Users\\henri\\AppData\\Local\\Programs\\Python\\Python39\\lib\\site-packages\\keras_preprocessing\\image\\dataframe_iterator.py:279: UserWarning: Found 7 invalid image filename(s) in x_col=\"id\". These filename(s) will be ignored.\n",
      "  warnings.warn(\n",
      "Found 3988 validated image filenames belonging to 48 classes.\n",
      "Found 996 validated image filenames belonging to 48 classes.\n",
      "Found 2097 validated image filenames belonging to 50 classes.\n"
     ]
    }
   ],
   "source": [
    "train_generator_3, _, test_generator_3 = common.create_image_generators(\"dataset_mini/data\", \"dataset_mini/data\", train_3, test, 64, (224, 224), data_augmentation=False)\n",
    "\n",
    "train_generator_48, _, _ = common.create_image_generators(\"dataset_mini/data\", \"dataset_mini/data\", train_48, test, 64, (224, 224), data_augmentation=False)"
   ]
  },
  {
   "cell_type": "code",
   "execution_count": 4,
   "metadata": {},
   "outputs": [
    {
     "output_type": "stream",
     "name": "stdout",
     "text": [
      "Found 228 validated image filenames belonging to 28 classes.\n"
     ]
    }
   ],
   "source": [
    "top3_acc = functools.partial(metrics.top_k_categorical_accuracy, k=3)\n",
    "top3_acc.__name__ = 'top3_acc'\n",
    "\n",
    "top5_acc = functools.partial(metrics.top_k_categorical_accuracy, k=5)\n",
    "top5_acc.__name__ = 'top5_acc'\n",
    "\n",
    "model3 = models.load_model('task1_cnn_3')\n",
    "model48 = models.load_model('task1_cnn_48', custom_objects={'top3_acc': top3_acc, 'top5_acc': top5_acc})\n",
    "\n",
    "# Initial 3-class prediction\n",
    "model3_predictions = model3.predict(test_generator_3)\n",
    "y_pred_model3 = np.argmax(model3_predictions, axis=1)\n",
    "\n",
    "# Get the dataset without the predicted 13 and 51\n",
    "usefulIndexes = []\n",
    "for i in range(len(y_pred_model3)):\n",
    "     if(y_pred_model3[i] == train_generator_3.class_indices['-1']):\n",
    "         usefulIndexes.append(i)\n",
    "\n",
    "newOthersTest = test.loc[usefulIndexes]\n",
    "y_pred_others = []\n",
    "\n",
    "if(len(usefulIndexes) > 0):\n",
    "    #pass this dataset into the Others CNN\n",
    "    imageGenerator = ImageDataGenerator(\n",
    "        rescale=1./255,\n",
    "    )\n",
    "    test_generator_last = imageGenerator.flow_from_dataframe(  \n",
    "        dataframe=newOthersTest,\n",
    "        directory=\"dataset_mini/data\",    \n",
    "        x_col=\"id\",\n",
    "        y_col=\"attribute_ids\",\n",
    "        target_size=(224, 224),\n",
    "        batch_size=1,\n",
    "        shuffle=False,\n",
    "        class_mode=\"categorical\"\n",
    "    )\n",
    "\n",
    "    probabilitiesOthers = model48.predict(test_generator_last)\n",
    "    y_pred_others = np.argmax(probabilitiesOthers, axis=-1)\n",
    "\n",
    "\n",
    "# join the two prediction arrays\n",
    "inv_indices_3 = {v: k for k, v in train_generator_3.class_indices.items()}\n",
    "inv_indices_others = {v: k for k, v in train_generator_48.class_indices.items()}\n",
    "j = 0\n",
    "y_pred = []\n",
    "for i in range(0, len(y_pred_model3)):\n",
    "    if(y_pred_model3[i] == train_generator_3.class_indices['-1']):\n",
    "        y_pred.append(inv_indices_others[y_pred_others[j]])\n",
    "        j += 1\n",
    "    else:\n",
    "        y_pred.append(inv_indices_3[y_pred_model3[i]])\n",
    "\n",
    "y_pred = np.array(y_pred)\n",
    "y_pred = y_pred.astype(str)\n",
    "\n",
    "# get results\n",
    "y_true = np.array(test['attribute_ids'])"
   ]
  },
  {
   "cell_type": "code",
   "execution_count": 5,
   "metadata": {},
   "outputs": [
    {
     "output_type": "stream",
     "name": "stdout",
     "text": [
      "[[0 0 0 ... 0 1 0]\n",
      " [0 0 0 ... 0 1 0]\n",
      " [0 0 0 ... 0 0 0]\n",
      " ...\n",
      " [0 0 0 ... 0 0 0]\n",
      " [0 0 0 ... 0 5 0]\n",
      " [0 0 0 ... 0 0 0]]\n",
      "              precision    recall  f1-score   support\n",
      "\n",
      "           0       0.00      0.00      0.00         1\n",
      "           1       0.00      0.00      0.00        11\n",
      "          10       0.00      0.00      0.00         2\n",
      "          12       0.00      0.00      0.00         1\n",
      "          13       0.64      0.12      0.21       888\n",
      "          14       0.06      0.03      0.04        39\n",
      "          15       0.00      0.00      0.00         2\n",
      "          16       0.00      0.00      0.00         1\n",
      "          17       0.00      0.00      0.00         1\n",
      "          18       0.00      0.00      0.00        10\n",
      "           2       0.00      0.00      0.00         2\n",
      "          22       0.00      0.00      0.00         4\n",
      "          23       0.25      0.06      0.10        17\n",
      "          24       0.00      0.00      0.00         5\n",
      "          25       0.00      0.00      0.00        55\n",
      "          26       0.00      0.00      0.00        19\n",
      "          27       0.00      0.00      0.00         1\n",
      "          28       0.00      0.00      0.00         1\n",
      "          29       0.00      0.00      0.00        49\n",
      "          32       0.00      0.00      0.00         4\n",
      "          33       0.00      0.00      0.00        22\n",
      "          35       0.00      0.00      0.00        11\n",
      "          38       0.00      0.00      0.00         1\n",
      "          40       0.00      0.00      0.00         3\n",
      "          41       0.00      0.00      0.00        16\n",
      "          42       0.00      0.00      0.00         3\n",
      "          43       0.00      0.00      0.00        10\n",
      "          44       0.00      0.00      0.00         1\n",
      "          45       0.00      0.00      0.00        50\n",
      "          46       0.00      0.00      0.00         1\n",
      "          48       0.00      0.00      0.00         4\n",
      "          49       0.00      0.00      0.00         1\n",
      "          50       0.00      0.00      0.00         2\n",
      "          51       0.37      0.88      0.53       718\n",
      "          52       0.00      0.00      0.00         1\n",
      "          54       0.00      0.00      0.00         1\n",
      "          55       0.00      0.00      0.00         9\n",
      "          56       0.00      0.00      0.00         2\n",
      "          58       0.00      0.00      0.00        16\n",
      "          59       0.00      0.00      0.00         1\n",
      "          60       0.00      0.00      0.00         9\n",
      "          61       0.00      0.00      0.00         4\n",
      "          62       0.00      0.00      0.00         2\n",
      "          64       0.00      0.00      0.00         2\n",
      "          65       0.00      0.00      0.00         4\n",
      "          66       0.00      0.00      0.00         2\n",
      "          67       0.00      0.00      0.00         7\n",
      "          69       0.00      0.00      0.00         4\n",
      "          70       0.05      0.07      0.06        76\n",
      "           9       0.00      0.00      0.00         1\n",
      "\n",
      "    accuracy                           0.36      2097\n",
      "   macro avg       0.03      0.02      0.02      2097\n",
      "weighted avg       0.41      0.36      0.27      2097\n",
      "\n",
      "C:\\Users\\henri\\AppData\\Local\\Programs\\Python\\Python39\\lib\\site-packages\\sklearn\\metrics\\_classification.py:1248: UndefinedMetricWarning: Precision and F-score are ill-defined and being set to 0.0 in labels with no predicted samples. Use `zero_division` parameter to control this behavior.\n",
      "  _warn_prf(average, modifier, msg_start, len(result))\n",
      "C:\\Users\\henri\\AppData\\Local\\Programs\\Python\\Python39\\lib\\site-packages\\sklearn\\metrics\\_classification.py:1248: UndefinedMetricWarning: Precision and F-score are ill-defined and being set to 0.0 in labels with no predicted samples. Use `zero_division` parameter to control this behavior.\n",
      "  _warn_prf(average, modifier, msg_start, len(result))\n",
      "C:\\Users\\henri\\AppData\\Local\\Programs\\Python\\Python39\\lib\\site-packages\\sklearn\\metrics\\_classification.py:1248: UndefinedMetricWarning: Precision and F-score are ill-defined and being set to 0.0 in labels with no predicted samples. Use `zero_division` parameter to control this behavior.\n",
      "  _warn_prf(average, modifier, msg_start, len(result))\n"
     ]
    }
   ],
   "source": [
    "matrix = confusion_matrix(y_true, y_pred)\n",
    "print(matrix)\n",
    "labels = np.unique(test[\"attribute_ids\"])\n",
    "print(classification_report(y_true, y_pred, labels=labels))"
   ]
  },
  {
   "cell_type": "code",
   "execution_count": null,
   "metadata": {},
   "outputs": [],
   "source": []
  }
 ]
}