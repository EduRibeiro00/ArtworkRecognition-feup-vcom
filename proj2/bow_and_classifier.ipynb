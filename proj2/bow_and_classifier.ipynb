{
 "cells": [
  {
   "cell_type": "code",
   "execution_count": 1,
   "id": "78160a18",
   "metadata": {},
   "outputs": [],
   "source": [
    "import pandas as pd\n",
    "import cv2 as cv\n",
    "import glob\n",
    "from tqdm import tqdm\n",
    "import matplotlib.pyplot as plt\n",
    "import sklearn.model_selection as model_selection\n",
    "import keras.utils.np_utils as np_utils\n",
    "from keras.preprocessing.image import ImageDataGenerator\n",
    "import numpy as np\n",
    "import os\n",
    "from sklearn.metrics import confusion_matrix, classification_report"
   ]
  },
  {
   "cell_type": "code",
   "execution_count": 2,
   "id": "7d7a5d64",
   "metadata": {},
   "outputs": [],
   "source": [
    "# declare path to needed files\n",
    "FOLDER_PATH='dataset_mini'\n",
    "\n",
    "# declare path to images folder\n",
    "IMAGES_PATH=f'{FOLDER_PATH}/images'"
   ]
  },
  {
   "cell_type": "code",
   "execution_count": 3,
   "id": "14266574",
   "metadata": {},
   "outputs": [
    {
     "output_type": "stream",
     "name": "stdout",
     "text": [
      "Number of total samples:  22087\nNumber of labels:  50\n"
     ]
    },
    {
     "output_type": "display_data",
     "data": {
      "text/plain": "                     id attribute_ids\n0  1000fe2e667721fe.png            51\n1  10041eb49b297c08.png            51\n2  100501c227f8beea.png            13\n3  1008abd71f3ed5bc.png            70\n4  100a0dcde728cb36.png            51",
      "text/html": "<div>\n<style scoped>\n    .dataframe tbody tr th:only-of-type {\n        vertical-align: middle;\n    }\n\n    .dataframe tbody tr th {\n        vertical-align: top;\n    }\n\n    .dataframe thead th {\n        text-align: right;\n    }\n</style>\n<table border=\"1\" class=\"dataframe\">\n  <thead>\n    <tr style=\"text-align: right;\">\n      <th></th>\n      <th>id</th>\n      <th>attribute_ids</th>\n    </tr>\n  </thead>\n  <tbody>\n    <tr>\n      <th>0</th>\n      <td>1000fe2e667721fe.png</td>\n      <td>51</td>\n    </tr>\n    <tr>\n      <th>1</th>\n      <td>10041eb49b297c08.png</td>\n      <td>51</td>\n    </tr>\n    <tr>\n      <th>2</th>\n      <td>100501c227f8beea.png</td>\n      <td>13</td>\n    </tr>\n    <tr>\n      <th>3</th>\n      <td>1008abd71f3ed5bc.png</td>\n      <td>70</td>\n    </tr>\n    <tr>\n      <th>4</th>\n      <td>100a0dcde728cb36.png</td>\n      <td>51</td>\n    </tr>\n  </tbody>\n</table>\n</div>"
     },
     "metadata": {}
    },
    {
     "output_type": "display_data",
     "data": {
      "text/plain": "   attribute_id             attribute_name\n0             0           culture::abruzzi\n1             1        culture::achaemenid\n2             2            culture::aegean\n3             9          culture::akkadian\n4            10  culture::alexandria-hadra",
      "text/html": "<div>\n<style scoped>\n    .dataframe tbody tr th:only-of-type {\n        vertical-align: middle;\n    }\n\n    .dataframe tbody tr th {\n        vertical-align: top;\n    }\n\n    .dataframe thead th {\n        text-align: right;\n    }\n</style>\n<table border=\"1\" class=\"dataframe\">\n  <thead>\n    <tr style=\"text-align: right;\">\n      <th></th>\n      <th>attribute_id</th>\n      <th>attribute_name</th>\n    </tr>\n  </thead>\n  <tbody>\n    <tr>\n      <th>0</th>\n      <td>0</td>\n      <td>culture::abruzzi</td>\n    </tr>\n    <tr>\n      <th>1</th>\n      <td>1</td>\n      <td>culture::achaemenid</td>\n    </tr>\n    <tr>\n      <th>2</th>\n      <td>2</td>\n      <td>culture::aegean</td>\n    </tr>\n    <tr>\n      <th>3</th>\n      <td>9</td>\n      <td>culture::akkadian</td>\n    </tr>\n    <tr>\n      <th>4</th>\n      <td>10</td>\n      <td>culture::alexandria-hadra</td>\n    </tr>\n  </tbody>\n</table>\n</div>"
     },
     "metadata": {}
    }
   ],
   "source": [
    "# read the CSV files containing the images and their correspondent class/label\n",
    "multiclass_df = pd.read_csv(f\"{FOLDER_PATH}/multiclass.csv\")\n",
    "labels_df = pd.read_csv(f\"{FOLDER_PATH}/labels.csv\")\n",
    "\n",
    "print('Number of total samples: ', multiclass_df.shape[0])\n",
    "print('Number of labels: ', labels_df.shape[0])\n",
    "\n",
    "multiclass_df[\"id\"] = multiclass_df[\"id\"].apply(lambda x: f\"{x}.png\")\n",
    "multiclass_df[\"attribute_ids\"] = multiclass_df[\"attribute_ids\"].astype(str)\n",
    "\n",
    "display(multiclass_df.head())\n",
    "display(labels_df.head())"
   ]
  },
  {
   "cell_type": "code",
   "execution_count": 4,
   "id": "6b0a4345",
   "metadata": {},
   "outputs": [],
   "source": [
    "# define number of words for vocabulary\n",
    "NUMBER_OF_WORDS = 100\n",
    "\n",
    "# create paths for all images\n",
    "input_images = [f'{IMAGES_PATH}/{x}' for x in multiclass_df[\"id\"]]\n",
    "\n",
    "# function to open an image using its path\n",
    "def openImage(filename):\n",
    "    image = cv.imread(filename)\n",
    "    try:\n",
    "        image = cv.cvtColor(image, cv.COLOR_BGR2GRAY)\n",
    "    except:\n",
    "        print(\" --(!) Error reading image \", filename)\n",
    "        return None\n",
    "    return image"
   ]
  },
  {
   "cell_type": "code",
   "execution_count": 5,
   "id": "e494c34f",
   "metadata": {
    "tags": []
   },
   "outputs": [
    {
     "output_type": "stream",
     "name": "stderr",
     "text": [
      "100%|██████████| 22087/22087 [26:29<00:00, 13.89it/s]\n"
     ]
    }
   ],
   "source": [
    "# compute all descriptors and keypoints for all images\n",
    "detector = cv.KAZE_create()\n",
    "allDescriptors = []\n",
    "allKeypoints = []\n",
    "for name in tqdm(input_images):\n",
    "    img = openImage(name)\n",
    "    if img is None:\n",
    "        continue\n",
    "    keypoints, descriptors = detector.detectAndCompute(img, None)\n",
    "    if descriptors is not None:\n",
    "        allDescriptors.extend(descriptors)\n",
    "    allKeypoints.append(keypoints)"
   ]
  },
  {
   "cell_type": "code",
   "execution_count": 6,
   "id": "cf327c74",
   "metadata": {},
   "outputs": [],
   "source": [
    "# instantiate Bag Of Words trainer\n",
    "bowTrainer = cv.BOWKMeansTrainer(NUMBER_OF_WORDS)\n",
    "\n",
    "# create visual vocabulary, clustering image descriptors using K-Means\n",
    "vocab = bowTrainer.cluster(np.array(allDescriptors))"
   ]
  },
  {
   "cell_type": "code",
   "execution_count": 7,
   "id": "77e973b0",
   "metadata": {},
   "outputs": [
    {
     "output_type": "stream",
     "name": "stdout",
     "text": [
      "(100, 64)\n"
     ]
    }
   ],
   "source": [
    "# create Bag Of Words extractor class\n",
    "matcher = cv.FlannBasedMatcher()\n",
    "bowExtractor = cv.BOWImgDescriptorExtractor(detector, matcher)\n",
    "bowExtractor.setVocabulary(vocab)\n",
    "\n",
    "print(vocab.shape)"
   ]
  },
  {
   "cell_type": "code",
   "execution_count": 8,
   "id": "611580a9",
   "metadata": {},
   "outputs": [
    {
     "output_type": "stream",
     "name": "stderr",
     "text": [
      "22087it [18:47, 19.60it/s]\n"
     ]
    }
   ],
   "source": [
    "# extract all Bag Of Words descriptors for each image\n",
    "allBowDescriptors = []\n",
    "for name, keypoint in tqdm(zip(input_images, allKeypoints)):\n",
    "    img = openImage(name)\n",
    "    desc = bowExtractor.compute(img, keypoint)\n",
    "    \n",
    "    desc = np.zeros(NUMBER_OF_WORDS) if desc is None else desc.squeeze()\n",
    "    allBowDescriptors.append(desc)"
   ]
  },
  {
   "cell_type": "code",
   "execution_count": 9,
   "id": "2e04a639",
   "metadata": {},
   "outputs": [],
   "source": [
    "# split the images that are going to be used for training and for testing\n",
    "X_train, X_test, y_train, y_test = model_selection.train_test_split(\n",
    "    allBowDescriptors,\n",
    "    multiclass_df[\"attribute_ids\"].tolist(),\n",
    "    test_size = 0.2\n",
    ")"
   ]
  },
  {
   "cell_type": "code",
   "execution_count": 10,
   "id": "905359d2",
   "metadata": {},
   "outputs": [
    {
     "output_type": "stream",
     "name": "stdout",
     "text": [
      "(22087, 100)\n"
     ]
    }
   ],
   "source": [
    "print(np.array(allBowDescriptors).shape)"
   ]
  },
  {
   "cell_type": "code",
   "execution_count": 11,
   "id": "5671c9ca",
   "metadata": {},
   "outputs": [],
   "source": [
    "#print(allBowDescriptors)\n",
    "#outfile = open('allBowDescriptors', 'wb')\n",
    "#pickle.dump(allBowDescriptors, outfile)\n",
    "#outfile.close()"
   ]
  },
  {
   "cell_type": "markdown",
   "id": "2d429427",
   "metadata": {},
   "source": [
    "### SVM Classifier"
   ]
  },
  {
   "cell_type": "code",
   "execution_count": 12,
   "id": "71ce2f39",
   "metadata": {},
   "outputs": [],
   "source": [
    "# import classes from SKLearn\n",
    "from sklearn.model_selection import GridSearchCV\n",
    "from sklearn.svm import SVC\n",
    "from sklearn.metrics import multilabel_confusion_matrix"
   ]
  },
  {
   "cell_type": "code",
   "execution_count": 13,
   "id": "e798e3cd",
   "metadata": {},
   "outputs": [
    {
     "output_type": "execute_result",
     "data": {
      "text/plain": [
       "{'C': 1.0,\n",
       " 'break_ties': False,\n",
       " 'cache_size': 200,\n",
       " 'class_weight': None,\n",
       " 'coef0': 0.0,\n",
       " 'decision_function_shape': 'ovr',\n",
       " 'degree': 3,\n",
       " 'gamma': 'scale',\n",
       " 'kernel': 'rbf',\n",
       " 'max_iter': -1,\n",
       " 'probability': False,\n",
       " 'random_state': None,\n",
       " 'shrinking': True,\n",
       " 'tol': 0.001,\n",
       " 'verbose': False}"
      ]
     },
     "metadata": {},
     "execution_count": 13
    }
   ],
   "source": [
    "# create SVM classifier instance, and check the hyper parameters\n",
    "svm = SVC()\n",
    "svm.get_params()"
   ]
  },
  {
   "cell_type": "code",
   "execution_count": 14,
   "id": "43914727",
   "metadata": {},
   "outputs": [],
   "source": [
    "# do hyper parameter tuning with the SVM, using cross validation\n",
    "kernel = ['linear', 'poly', 'rbf']\n",
    "c = [0.01, 0.1, 1]\n",
    "gamma = [0.01, 0.1, 1]\n",
    "epsilon = [0.01, 0.1, 1]\n",
    "param_grid = {'C': c, 'gamma' : gamma, 'kernel': kernel}\n",
    "\n",
    "search = GridSearchCV(svm, param_grid, scoring='neg_mean_squared_error', cv=3, return_train_score=True, n_jobs=-1, verbose=1)"
   ]
  },
  {
   "cell_type": "code",
   "execution_count": 15,
   "id": "8bba441e",
   "metadata": {},
   "outputs": [
    {
     "output_type": "stream",
     "name": "stdout",
     "text": [
      "0 null elements in X_train\n0 null elements in y_train\n\n0 null elements in X_test\n0 null elements in y_test\n\n"
     ]
    }
   ],
   "source": [
    "def countNone(array):\n",
    "    return sum(1 for i in array if i is None)\n",
    "\n",
    "print(f'{countNone(X_train)} null elements in X_train')\n",
    "print(f'{countNone(y_train)} null elements in y_train\\n')\n",
    "       \n",
    "print(f'{countNone(X_test)} null elements in X_test')\n",
    "print(f'{countNone(y_test)} null elements in y_test\\n')"
   ]
  },
  {
   "cell_type": "code",
   "execution_count": 16,
   "id": "33a64df1",
   "metadata": {
    "tags": []
   },
   "outputs": [
    {
     "output_type": "stream",
     "name": "stdout",
     "text": [
      "Fitting 3 folds for each of 27 candidates, totalling 81 fits\n",
      "Elapsed time: 22.983833463986716mins\n",
      "Best score: -563.7028821732519\n",
      "Best parameters: {'C': 1, 'gamma': 1, 'kernel': 'rbf'}\n"
     ]
    }
   ],
   "source": [
    "import time\n",
    "\n",
    "# train the model with the training data\n",
    "start = time.time()\n",
    "search.fit(X_train, y_train)\n",
    "end = time.time()\n",
    "elapsed_time = end - start\n",
    "print('Elapsed time: {}mins'.format(elapsed_time / 60))\n",
    "print('Best score: {}'.format(search.best_score_))\n",
    "print('Best parameters: {}'.format(search.best_params_))\n",
    "svm_estimator = search.best_estimator_"
   ]
  },
  {
   "cell_type": "code",
   "execution_count": 17,
   "id": "052699fb",
   "metadata": {},
   "outputs": [],
   "source": [
    "# test the classifier with the testing data\n",
    "y_pred = svm_estimator.predict(X_test)"
   ]
  },
  {
   "cell_type": "code",
   "execution_count": 18,
   "id": "fae42c11",
   "metadata": {},
   "outputs": [
    {
     "output_type": "execute_result",
     "data": {
      "text/plain": [
       "array([[[2119,  832],\n",
       "        [ 701,  766]],\n",
       "\n",
       "       [[2119,  832],\n",
       "        [ 701,  766]],\n",
       "\n",
       "       [[1240, 1334],\n",
       "        [ 358, 1486]],\n",
       "\n",
       "       ...,\n",
       "\n",
       "       [[4286,    0],\n",
       "        [ 132,    0]],\n",
       "\n",
       "       [[1240, 1334],\n",
       "        [ 358, 1486]],\n",
       "\n",
       "       [[1240, 1334],\n",
       "        [ 358, 1486]]], dtype=int64)"
      ]
     },
     "metadata": {},
     "execution_count": 18
    }
   ],
   "source": [
    "# create a multilabel confusion matrix\n",
    "multilabel_confusion_matrix(y_test, y_pred, labels=list(multiclass_df[\"attribute_ids\"]))"
   ]
  },
  {
   "cell_type": "code",
   "execution_count": 19,
   "id": "7f800680",
   "metadata": {},
   "outputs": [
    {
     "output_type": "stream",
     "name": "stdout",
     "text": [
      "              precision    recall  f1-score   support\n\n           0       0.00      0.00      0.00         3\n           1       0.00      0.00      0.00        16\n          10       0.00      0.00      0.00         1\n          12       0.00      0.00      0.00         3\n          13       0.53      0.81      0.64      1844\n          14       0.00      0.00      0.00        84\n          15       0.00      0.00      0.00         5\n          16       0.00      0.00      0.00         4\n          17       0.00      0.00      0.00         5\n          18       0.00      0.00      0.00        28\n           2       0.00      0.00      0.00         1\n          22       0.00      0.00      0.00         4\n          23       0.00      0.00      0.00        52\n          24       0.00      0.00      0.00         8\n          25       0.00      0.00      0.00       132\n          26       0.00      0.00      0.00        29\n          27       0.00      0.00      0.00         4\n          28       0.00      0.00      0.00         0\n          29       0.00      0.00      0.00       112\n          32       0.00      0.00      0.00        14\n          33       0.00      0.00      0.00        63\n          35       0.00      0.00      0.00        29\n          38       0.00      0.00      0.00         2\n          40       0.00      0.00      0.00        10\n          41       0.00      0.00      0.00        28\n          42       0.00      0.00      0.00         6\n          43       0.00      0.00      0.00        11\n          44       0.00      0.00      0.00         6\n          45       0.00      0.00      0.00       108\n          46       0.00      0.00      0.00         3\n          48       0.00      0.00      0.00         7\n          49       0.00      0.00      0.00         3\n          50       0.00      0.00      0.00         4\n          51       0.48      0.52      0.50      1467\n          52       0.00      0.00      0.00         6\n          54       0.00      0.00      0.00         5\n          55       0.00      0.00      0.00        18\n          56       0.00      0.00      0.00         1\n          58       0.00      0.00      0.00        39\n          59       0.00      0.00      0.00         6\n          60       0.00      0.00      0.00        14\n          61       0.00      0.00      0.00        14\n          62       0.00      0.00      0.00         2\n          64       0.00      0.00      0.00         2\n          65       0.00      0.00      0.00        11\n          66       0.00      0.00      0.00         2\n          67       0.00      0.00      0.00         5\n          69       0.00      0.00      0.00        13\n          70       0.00      0.00      0.00       178\n           9       0.00      0.00      0.00         6\n\n   micro avg       0.51      0.51      0.51      4418\n   macro avg       0.02      0.03      0.02      4418\nweighted avg       0.38      0.51      0.43      4418\n\n"
     ]
    }
   ],
   "source": [
    "print(classification_report(y_test, y_pred, zero_division=0, labels=np.unique(multiclass_df[\"attribute_ids\"])))"
   ]
  },
  {
   "cell_type": "code",
   "execution_count": null,
   "id": "5e758cc3",
   "metadata": {},
   "outputs": [],
   "source": []
  }
 ],
 "metadata": {
  "interpreter": {
   "hash": "7ea49d6dc0c3ed45484621684d8edb567bb9f563ea3cd34f7c88d285f6fcb5a4"
  },
  "kernelspec": {
   "name": "python3",
   "display_name": "Python 3.7.4 64-bit"
  },
  "language_info": {
   "codemirror_mode": {
    "name": "ipython",
    "version": 3
   },
   "file_extension": ".py",
   "mimetype": "text/x-python",
   "name": "python",
   "nbconvert_exporter": "python",
   "pygments_lexer": "ipython3",
   "version": "3.7.4"
  },
  "metadata": {
   "interpreter": {
    "hash": "c20a6cc10b181467a9eba79145e80b289cbf6403380349d96b661c6de1c0092c"
   }
  }
 },
 "nbformat": 4,
 "nbformat_minor": 5
}